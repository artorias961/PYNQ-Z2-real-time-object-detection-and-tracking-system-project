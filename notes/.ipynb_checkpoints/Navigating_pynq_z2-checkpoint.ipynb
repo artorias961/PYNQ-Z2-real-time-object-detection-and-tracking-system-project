{
 "cells": [
  {
   "cell_type": "markdown",
   "id": "8cec474b-ed1e-4786-af81-ffff767ae8e3",
   "metadata": {},
   "source": [
    "# Finding the directory of the folders"
   ]
  },
  {
   "cell_type": "code",
   "execution_count": 5,
   "id": "21ae86c8-b4b2-4330-b670-09b19e259fdd",
   "metadata": {},
   "outputs": [
    {
     "name": "stdout",
     "output_type": "stream",
     "text": [
      "Changed directory to: /home\n",
      "total 8\n",
      "drwxr-xr-x 3 root   root   4096 Oct 22  2022 jenkins\n",
      "drwxr-x--- 4 xilinx xilinx 4096 Dec 27 04:18 xilinx\n",
      "\n"
     ]
    }
   ],
   "source": [
    "import os\n",
    "import subprocess\n",
    "\n",
    "def change_directory(path):\n",
    "    \"\"\"Change the working directory.\"\"\"\n",
    "    try:\n",
    "        os.chdir(path)\n",
    "        print(f\"Changed directory to: {os.getcwd()}\")\n",
    "    except FileNotFoundError:\n",
    "        print(f\"Error: Directory '{path}' not found.\")\n",
    "    except Exception as e:\n",
    "        print(f\"An error occurred: {e}\")\n",
    "\n",
    "def list_files():\n",
    "    \"\"\"List files in the current directory.\"\"\"\n",
    "    try:\n",
    "        files = subprocess.run([\"ls\", \"-l\"], capture_output=True, text=True)\n",
    "        print(files.stdout)\n",
    "    except Exception as e:\n",
    "        print(f\"An error occurred while listing files: {e}\")\n",
    "\n",
    "# Example Usage\n",
    "# Change to a directory (e.g., 'project') and list its files\n",
    "change_directory(\"../..\")\n",
    "list_files()\n"
   ]
  },
  {
   "cell_type": "code",
   "execution_count": null,
   "id": "8b1efa50-489d-4f3c-a97a-4730639928ae",
   "metadata": {},
   "outputs": [],
   "source": []
  }
 ],
 "metadata": {
  "kernelspec": {
   "display_name": "Python 3 (ipykernel)",
   "language": "python",
   "name": "python3"
  },
  "language_info": {
   "codemirror_mode": {
    "name": "ipython",
    "version": 3
   },
   "file_extension": ".py",
   "mimetype": "text/x-python",
   "name": "python",
   "nbconvert_exporter": "python",
   "pygments_lexer": "ipython3",
   "version": "3.10.4"
  }
 },
 "nbformat": 4,
 "nbformat_minor": 5
}
