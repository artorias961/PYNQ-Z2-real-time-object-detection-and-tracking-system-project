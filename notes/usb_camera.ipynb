{
 "cells": [
  {
   "cell_type": "markdown",
   "id": "c21428dd-dabe-4cee-9c7a-05fa64f3c22f",
   "metadata": {},
   "source": [
    "# OpenCV\n",
    "\n",
    "[Link](https://unix.stackexchange.com/questions/94497/org-eclipse-swt-swterror-no-more-handles-gtk-init-check-failed-while-runnin)"
   ]
  },
  {
   "cell_type": "code",
   "execution_count": 18,
   "id": "ea40eea4-af56-4547-9647-af254dbad468",
   "metadata": {},
   "outputs": [],
   "source": [
    "import cv2\n",
    "import numpy as np"
   ]
  },
  {
   "cell_type": "code",
   "execution_count": 15,
   "id": "3c0dcb6e-2d5f-4b5f-abc1-89ee27b55c68",
   "metadata": {},
   "outputs": [
    {
     "name": "stderr",
     "output_type": "stream",
     "text": [
      "[ WARN:0] global ./modules/videoio/src/cap_gstreamer.cpp (616) isPipelinePlaying OpenCV | GStreamer warning: GStreamer: pipeline have not been created\n",
      "[ WARN:0] global ./modules/videoio/src/cap_v4l.cpp (890) open VIDEOIO(V4L2:/dev/video0): can't open camera by index\n"
     ]
    },
    {
     "name": "stdout",
     "output_type": "stream",
     "text": [
      "Error: Could not access the camera.\n"
     ]
    }
   ],
   "source": [
    "import cv2\n",
    "import numpy as np\n",
    "\n",
    "def process_camera():\n",
    "    # Open the camera (index 0 assumes the first connected camera)\n",
    "    cap = cv2.VideoCapture(0)\n",
    "\n",
    "    if not cap.isOpened():\n",
    "        print(\"Error: Could not access the camera.\")\n",
    "        return\n",
    "\n",
    "    while True:\n",
    "        # Capture frame-by-frame\n",
    "        ret, frame = cap.read()\n",
    "        if not ret:\n",
    "            print(\"Error: Failed to capture frame.\")\n",
    "            break\n",
    "\n",
    "        # Resize the frame for display (optional)\n",
    "        resized_frame = cv2.resize(frame, (640, 480))\n",
    "\n",
    "        # Convert to grayscale\n",
    "        gray_frame = cv2.cvtColor(resized_frame, cv2.COLOR_BGR2GRAY)\n",
    "\n",
    "        # Apply Gaussian Blur\n",
    "        blurred_frame = cv2.GaussianBlur(gray_frame, (5, 5), 0)\n",
    "\n",
    "        # Perform edge detection using Canny\n",
    "        edges = cv2.Canny(blurred_frame, 50, 150)\n",
    "\n",
    "        # Show the original and processed frames\n",
    "        cv2.imshow(\"Camera Feed\", resized_frame)\n",
    "        cv2.imshow(\"Edges\", edges)\n",
    "\n",
    "        # Break the loop if 'q' is pressed\n",
    "        if cv2.waitKey(1) & 0xFF == ord('q'):\n",
    "            break\n",
    "\n",
    "    # Release the camera and close windows\n",
    "    cap.release()\n",
    "    cv2.destroyAllWindows()\n",
    "\n",
    "if __name__ == \"__main__\":\n",
    "    process_camera()"
   ]
  },
  {
   "cell_type": "code",
   "execution_count": 10,
   "id": "7638364c-e9a0-4c3e-b268-fd68d8b2c1cc",
   "metadata": {},
   "outputs": [
    {
     "name": "stdout",
     "output_type": "stream",
     "text": [
      "4.5.4\n"
     ]
    }
   ],
   "source": [
    "print(cv2.__version__)\n"
   ]
  },
  {
   "cell_type": "code",
   "execution_count": 17,
   "id": "024ddfe6-e868-4e5d-a059-481c207a8919",
   "metadata": {},
   "outputs": [
    {
     "name": "stderr",
     "output_type": "stream",
     "text": [
      "[ WARN:0] global ./modules/videoio/src/cap_gstreamer.cpp (873) open OpenCV | GStreamer warning: Error opening bin: no source element for URI \"/dev/video0\"\n",
      "[ WARN:0] global ./modules/videoio/src/cap_gstreamer.cpp (616) isPipelinePlaying OpenCV | GStreamer warning: GStreamer: pipeline have not been created\n"
     ]
    },
    {
     "name": "stdout",
     "output_type": "stream",
     "text": [
      "Error: Could not access the camera at /dev/video0.\n"
     ]
    }
   ],
   "source": [
    "import cv2\n",
    "import numpy as np\n",
    "\n",
    "def process_camera(device_path=\"/dev/media0\"):\n",
    "    # Open the camera by specifying the device path\n",
    "    cap = cv2.VideoCapture(device_path)\n",
    "\n",
    "    if not cap.isOpened():\n",
    "        print(f\"Error: Could not access the camera at {device_path}.\")\n",
    "        return\n",
    "\n",
    "    while True:\n",
    "        # Capture frame-by-frame\n",
    "        ret, frame = cap.read()\n",
    "        if not ret:\n",
    "            print(\"Error: Failed to capture frame.\")\n",
    "            break\n",
    "\n",
    "        # Resize the frame for display (optional)\n",
    "        resized_frame = cv2.resize(frame, (640, 480))\n",
    "\n",
    "        # Convert to grayscale\n",
    "        gray_frame = cv2.cvtColor(resized_frame, cv2.COLOR_BGR2GRAY)\n",
    "\n",
    "        # Apply Gaussian Blur\n",
    "        blurred_frame = cv2.GaussianBlur(gray_frame, (5, 5), 0)\n",
    "\n",
    "        # Perform edge detection using Canny\n",
    "        edges = cv2.Canny(blurred_frame, 50, 150)\n",
    "\n",
    "        # Show the original and processed frames\n",
    "        cv2.imshow(\"Camera Feed\", resized_frame)\n",
    "        cv2.imshow(\"Edges\", edges)\n",
    "\n",
    "        # Break the loop if 'q' is pressed\n",
    "        if cv2.waitKey(1) & 0xFF == ord('q'):\n",
    "            break\n",
    "\n",
    "    # Release the camera and close windows\n",
    "    cap.release()\n",
    "    cv2.destroyAllWindows()\n",
    "\n",
    "if __name__ == \"__main__\":\n",
    "    # Specify the correct device path for your camera\n",
    "    process_camera(device_path=\"/dev/video0\")\n"
   ]
  },
  {
   "cell_type": "code",
   "execution_count": null,
   "id": "1a4759e2-ca22-477a-bc54-2e10a45bdcdb",
   "metadata": {},
   "outputs": [],
   "source": []
  }
 ],
 "metadata": {
  "kernelspec": {
   "display_name": "Python 3 (ipykernel)",
   "language": "python",
   "name": "python3"
  },
  "language_info": {
   "codemirror_mode": {
    "name": "ipython",
    "version": 3
   },
   "file_extension": ".py",
   "mimetype": "text/x-python",
   "name": "python",
   "nbconvert_exporter": "python",
   "pygments_lexer": "ipython3",
   "version": "3.10.4"
  }
 },
 "nbformat": 4,
 "nbformat_minor": 5
}
